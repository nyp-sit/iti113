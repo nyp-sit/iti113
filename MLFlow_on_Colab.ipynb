{
  "nbformat": 4,
  "nbformat_minor": 0,
  "metadata": {
    "colab": {
      "provenance": [],
      "authorship_tag": "ABX9TyNdrQSlKk1FNuU2y9YTmW2L",
      "include_colab_link": true
    },
    "kernelspec": {
      "name": "python3",
      "display_name": "Python 3"
    },
    "language_info": {
      "name": "python"
    }
  },
  "cells": [
    {
      "cell_type": "markdown",
      "metadata": {
        "id": "view-in-github",
        "colab_type": "text"
      },
      "source": [
        "<a href=\"https://colab.research.google.com/github/nyp-sit/iti105/blob/main/MLFlow_on_Colab.ipynb\" target=\"_parent\"><img src=\"https://colab.research.google.com/assets/colab-badge.svg\" alt=\"Open In Colab\"/></a>"
      ]
    },
    {
      "cell_type": "code",
      "execution_count": null,
      "metadata": {
        "id": "J836vbA9dqDf"
      },
      "outputs": [],
      "source": [
        "!pip install mlflow"
      ]
    },
    {
      "cell_type": "code",
      "source": [
        "from google.colab.output import eval_js\n",
        "print(eval_js(\"google.colab.kernel.proxyPort(5000)\"))"
      ],
      "metadata": {
        "id": "_NOz-FgZd3gj"
      },
      "execution_count": null,
      "outputs": []
    },
    {
      "cell_type": "markdown",
      "source": [
        "# Auto logging"
      ],
      "metadata": {
        "id": "3WEDENXeqmEL"
      }
    },
    {
      "cell_type": "code",
      "source": [
        "import mlflow\n",
        "\n",
        "from sklearn.model_selection import train_test_split\n",
        "from sklearn.datasets import load_diabetes\n",
        "from sklearn.ensemble import RandomForestRegressor\n",
        "\n",
        "mlflow.autolog()\n",
        "\n",
        "db = load_diabetes()\n",
        "X_train, X_test, y_train, y_test = train_test_split(db.data, db.target)\n",
        "\n",
        "# Create and train models.\n",
        "rf = RandomForestRegressor(n_estimators=100, max_depth=6, max_features=3)\n",
        "rf.fit(X_train, y_train)\n",
        "\n",
        "# Use the model to make predictions on the test dataset.\n",
        "predictions = rf.predict(X_test)"
      ],
      "metadata": {
        "id": "1hpimJrHdvzR"
      },
      "execution_count": null,
      "outputs": []
    },
    {
      "cell_type": "code",
      "source": [
        "!mlflow ui"
      ],
      "metadata": {
        "id": "Ek7FG1yVeK2o"
      },
      "execution_count": null,
      "outputs": []
    },
    {
      "cell_type": "code",
      "source": [
        "from mlflow.utils.model_utils import Model\n",
        "from xgboost.sklearn import XGBClassifier\n",
        "from sklearn import datasets\n",
        "from sklearn.model_selection import train_test_split\n",
        "from sklearn.metrics import accuracy_score, log_loss\n",
        "import xgboost as xgb\n",
        "import matplotlib as mpl\n",
        "\n",
        "\n",
        "import mlflow\n",
        "import mlflow.xgboost\n",
        "\n",
        "# prepare train and test data\n",
        "iris = datasets.load_iris()\n",
        "X = iris.data\n",
        "y = iris.target\n",
        "X_train, X_test, y_train, y_test = train_test_split(X, y, test_size=0.2, random_state=42)\n",
        "\n",
        "# enable auto logging\n",
        "mlflow.xgboost.autolog()\n",
        "\n",
        "with mlflow.start_run():\n",
        "    # train model\n",
        "    params = {\n",
        "        \"objective\": \"multi:softprob\",\n",
        "        \"num_class\": 3,\n",
        "        \"learning_rate\": 0.3,\n",
        "        \"eval_metric\": \"mlogloss\",\n",
        "        \"colsample_bytree\": 1.0,\n",
        "        \"subsample\": 1.0,\n",
        "        \"seed\": 42,\n",
        "    }\n",
        "    model = xgb.XGBClassifier(**params)\n",
        "    model.fit(X_train, y_train)\n",
        "\n",
        "    # evaluate model\n",
        "    y_pred = model.predict(X_test)\n",
        "    acc = accuracy_score(y_test, y_pred)\n",
        "\n",
        "    # log metrics\n",
        "    mlflow.log_metrics({\"accuracy\": acc})\n",
        "\n"
      ],
      "metadata": {
        "id": "Av3eE_QyeS74"
      },
      "execution_count": null,
      "outputs": []
    },
    {
      "cell_type": "markdown",
      "source": [
        "# Explicit Logging"
      ],
      "metadata": {
        "id": "6j9vTAvaqfiU"
      }
    },
    {
      "cell_type": "code",
      "source": [
        "import time\n",
        "from sklearn.ensemble import RandomForestClassifier\n",
        "\n",
        "EXPERIMENT_NAME = \"my_experiment\"\n",
        "experiment = mlflow.set_experiment(EXPERIMENT_NAME)\n",
        "EXPERIMENT_ID = experiment.experiment_id"
      ],
      "metadata": {
        "id": "ZWBn2SrLhh9N"
      },
      "execution_count": null,
      "outputs": []
    },
    {
      "cell_type": "code",
      "source": [
        "iris = datasets.load_iris()\n",
        "X = iris.data\n",
        "y = iris.target\n",
        "X_train, X_test, y_train, y_test = train_test_split(X, y, test_size=0.2, random_state=42)\n",
        "\n",
        "\n",
        "for depth in [6, 8]:\n",
        "    # Create and train models.\n",
        "    rf = RandomForestClassifier(n_estimators=100, max_depth=depth, max_features=3)\n",
        "    rf.fit(X_train, y_train)\n",
        "\n",
        "    # Use the model to make predictions on the test dataset.\n",
        "    predictions = rf.predict(X_test)\n",
        "    acc = accuracy_score(y_test, predictions)\n",
        "\n",
        "    RUN_ID = time.strftime(\"run_%Y_%m_%d-%H_%M_%S\")\n",
        "\n",
        "    with mlflow.start_run(experiment_id=EXPERIMENT_ID, run_name=RUN_ID) as run:\n",
        "        mlflow.log_param(\"max_depth\", depth)\n",
        "        # log metrics\n",
        "        mlflow.log_metric(\"accuracy\", acc)\n",
        ""
      ],
      "metadata": {
        "id": "4hi6JXQ5nPME"
      },
      "execution_count": null,
      "outputs": []
    },
    {
      "cell_type": "code",
      "source": [
        "!mlflow ui"
      ],
      "metadata": {
        "id": "luyEOcbTm1rC"
      },
      "execution_count": null,
      "outputs": []
    }
  ]
}