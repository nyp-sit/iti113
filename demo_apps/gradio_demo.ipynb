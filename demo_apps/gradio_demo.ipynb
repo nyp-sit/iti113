{
  "nbformat": 4,
  "nbformat_minor": 0,
  "metadata": {
    "colab": {
      "provenance": [],
      "authorship_tag": "ABX9TyMFpKWVSBe9Ef1Kia8IUa8X",
      "include_colab_link": true
    },
    "kernelspec": {
      "name": "python3",
      "display_name": "Python 3"
    },
    "language_info": {
      "name": "python"
    }
  },
  "cells": [
    {
      "cell_type": "markdown",
      "metadata": {
        "id": "view-in-github",
        "colab_type": "text"
      },
      "source": [
        "<a href=\"https://colab.research.google.com/github/nyp-sit/iti105/blob/main/gradio_demo.ipynb\" target=\"_parent\"><img src=\"https://colab.research.google.com/assets/colab-badge.svg\" alt=\"Open In Colab\"/></a>"
      ]
    },
    {
      "cell_type": "code",
      "source": [
        "!pip install gradio"
      ],
      "metadata": {
        "id": "lJ-AuWX3049Q"
      },
      "execution_count": null,
      "outputs": []
    },
    {
      "cell_type": "code",
      "execution_count": null,
      "metadata": {
        "id": "tgam3VDY0ip4"
      },
      "outputs": [],
      "source": [
        "import pandas as pd\n",
        "import pickle\n",
        "import gradio as gr\n",
        "\n",
        "# Load the model\n",
        "model = pickle.load(open('model.pkl', 'rb'))\n",
        "\n",
        "def predict_heart_failure(age, anemia, cp_level, diabetes, ejection, hbp, platelets, serum_creatinine, serum_sodium, sex, smoking, time):\n",
        "    # Convert inputs to the format expected by the model\n",
        "    anemia = 0 if anemia == 'no' else 1\n",
        "    diabetes = 0 if diabetes == 'no' else 1\n",
        "    hbp = 0 if hbp == 'no' else 1\n",
        "    sex = 0 if sex == 'female' else 1\n",
        "    smoking = 0 if smoking == 'no' else 1\n",
        "\n",
        "    values = [[age, anemia, cp_level, diabetes, ejection, hbp, platelets, serum_creatinine, serum_sodium, sex, smoking, time]]\n",
        "    prediction = model.predict(values)[0]\n",
        "\n",
        "    if prediction == 0:\n",
        "        return 'Predicted Heart Failure: No'\n",
        "    else:\n",
        "        return 'Predicted Heart Failure: Yes'\n",
        "\n",
        "# Define Gradio inputs and outputs\n",
        "inputs = [\n",
        "    gr.Slider(20, 120, step=1, label='Age'),\n",
        "    gr.Radio(['no', 'yes'], value='no', label='Anemia'),\n",
        "    gr.Number(label='Creatinine Phosphokinase Level (mcg/L)', value=100, precision=0),\n",
        "    gr.Radio(['no', 'yes'], value='no',label='Diabetes'),\n",
        "    gr.Slider(0, 100, step=1, label='Ejection Fraction (percent)', value=60),\n",
        "    gr.Radio(['no', 'yes'], value='no',label='High Blood Pressure'),\n",
        "    gr.Number(label='Platelets (kiloplatelets/mL)', value=300000, precision=0),\n",
        "    gr.Number(label='Serum Creatinine (mg/dL)', value=0.8, precision=2),\n",
        "    gr.Number(label='Serum Sodium (mEq/L)', value=130, precision=0),\n",
        "    gr.Radio(['female', 'male'], value='female', label='Sex'),\n",
        "    gr.Radio(['no', 'yes'], value='no',label='Smoking'),\n",
        "    gr.Number(label='Follow-up Period (days)', value=0, precision=0)\n",
        "]\n",
        "\n",
        "output = gr.Textbox(label=\"Prediction\")\n",
        "\n",
        "# Create Gradio interface\n",
        "gr.Interface(\n",
        "    fn=predict_heart_failure,\n",
        "    inputs=inputs,\n",
        "    outputs=output,\n",
        "    title=\"Heart Failure Prediction App\",\n",
        "    description=\"Predict the likelihood of heart failure based on various health parameters.\",\n",
        "    theme=\"default\"\n",
        ").launch()\n"
      ]
    },
    {
      "cell_type": "code",
      "source": [],
      "metadata": {
        "id": "R7DhFp7i2THN"
      },
      "execution_count": null,
      "outputs": []
    }
  ]
}